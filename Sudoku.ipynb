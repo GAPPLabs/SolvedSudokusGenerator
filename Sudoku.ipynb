{
 "cells": [
  {
   "cell_type": "markdown",
   "source": [
    "# Solved Sudokus  Generator"
   ],
   "metadata": {
    "collapsed": false,
    "pycharm": {
     "name": "#%% md\n"
    }
   }
  },
  {
   "cell_type": "markdown",
   "source": [
    "## Importing the needed libraries"
   ],
   "metadata": {
    "collapsed": false,
    "pycharm": {
     "name": "#%% md\n"
    }
   }
  },
  {
   "cell_type": "code",
   "execution_count": 1,
   "outputs": [],
   "source": [
    "import math, random\n",
    "import numpy as np\n",
    "import copy"
   ],
   "metadata": {
    "collapsed": false,
    "pycharm": {
     "name": "#%%\n"
    }
   }
  },
  {
   "cell_type": "markdown",
   "source": [
    "## Settings and main variables of the generator"
   ],
   "metadata": {
    "collapsed": false,
    "pycharm": {
     "name": "#%% md\n"
    }
   }
  },
  {
   "cell_type": "code",
   "execution_count": 83,
   "outputs": [],
   "source": [
    "# SUDOKU SETTINGS\n",
    "# sudokuDimension indicates the length of the sudoku\n",
    "sudokuDimension = 9\n",
    "# It's necessary calculate the size length of each subarray\n",
    "subArrayDimension = int(math.sqrt(sudokuDimension))\n",
    "# Automated setting of the sudoku solution\n",
    "# This creates the list of values for the subarray and shuffles to get a variety of solutions\n",
    "# listaInicial = list(range(1, sudokuDimension + 1))\n",
    "# random.shuffle(listaInicial)\n",
    "# In other case, it's possible to indicate the positions of the values from the first subarray\n",
    "mainList = [1, 2, 3, 4,5,6,7,8,9]\n",
    "# It creates the sudoku with full of zeros\n",
    "sudoku = np.zeros((sudokuDimension, sudokuDimension), dtype=np.uint8)"
   ],
   "metadata": {
    "collapsed": false,
    "pycharm": {
     "name": "#%%\n"
    }
   }
  },
  {
   "cell_type": "code",
   "execution_count": 84,
   "outputs": [],
   "source": [
    "listsPosition  = 0\n",
    "isSubArraySolved = False\n",
    "route = []\n",
    "structure  = 0\n",
    "solvedSubArray = 0"
   ],
   "metadata": {
    "collapsed": false,
    "pycharm": {
     "name": "#%%\n"
    }
   }
  },
  {
   "cell_type": "markdown",
   "source": [
    "## Algorithm function to generate  the solution of each subarray"
   ],
   "metadata": {
    "collapsed": false,
    "pycharm": {
     "name": "#%% md\n"
    }
   }
  },
  {
   "cell_type": "code",
   "execution_count": 85,
   "outputs": [],
   "source": [
    "# This is the algorithm using recursive for choosing the correct option of subarray\n",
    "counter = 0\n",
    "\n",
    "def generateSubArray():\n",
    "    # These are global variables because some ones  are need it in the structure\n",
    "    global route, listsPosition, isSubArraySolved, solvedSubArray, structure, counter, subArrayDimension\n",
    "    # if contador % 100 == 0: print(\"entra en método recursivo {} y tamaño de ruta es {} y ruta {}\".format(contador, len(ruta), ruta))\n",
    "    # print(\"entra en método recursivo {} y tamaño de ruta es {} y ruta {}\".format(contador, len(ruta), ruta))\n",
    "    counter = counter + 1\n",
    "    # print(general)\n",
    "    # If solucionado is True then it's not necessary keep analysing the options\n",
    "    if isSubArraySolved == False:\n",
    "        # In each called, the posicionEstructura variable is  used to iterate the  next element in the structured array\n",
    "        # and are taken the stored values in lista\n",
    "        # The possibilities are reduced by removing the existing values in ruta variable. NEW UPDATE FOR IMPROVE PERFORMANCE\n",
    "        listCopy = structure['list'][listsPosition].copy()\n",
    "\n",
    "        [listCopy.remove(value) if value in route else None for value in structure['list'][listsPosition]]\n",
    "        # NEW VARIABLE TO IMPROVE THE ALGORITHM TO AVOID SEARCHING IN EXISTING VALUES IN RUTA\n",
    "        # print(\"COPIA:\", copia)\n",
    "        # print(\"ORIGINAL\", estructura['lista'][posicionEstructura])\n",
    "        # print(copia)\n",
    "        structureCopy = copy.deepcopy(structure)\n",
    "        [lista.remove(value) if value in route else None for lista in structureCopy['list'] for value in lista]\n",
    "        # THIS IS FOR AVOID ITERATE WHEN A LIST IS EMPTY AND SKIPS THE PROCESS\n",
    "        print(\"comenzando proceso\")\n",
    "        for element in listCopy:\n",
    "            # The element is added to the ruta variable\n",
    "            print(\"agrega  el elemento a la ruta\", element)\n",
    "            route.append(element)\n",
    "            # print(\"ruta actual es\", ruta)\n",
    "\n",
    "            structureCopy = copy.deepcopy(structure)\n",
    "            [structureCopy['list'][i].remove(value) if value in route else None for i, lista in\n",
    "             enumerate(structure['list']) for value in lista]\n",
    "            # copiaEstructura = copiaEstructura[copiaEstructura[[\"len\"]].argsort()]\n",
    "            # print(\"imprimiendo listas preprocesadas\")\n",
    "            # print(copiaEstructura['lista'][posicionEstructura+1:sudokuDimension])\n",
    "            # print([False if x == [] else True for x in copiaEstructura['lista'][posicionEstructura+1:sudokuDimension]])\n",
    "\n",
    "            depthStructure = np.unique(structureCopy['list'][listsPosition + 1:sudokuDimension], return_counts=True)\n",
    "            # print(analisis)\n",
    "            isDepthNecessary = all(\n",
    "                [False if frequency > len(depthStructure[:-1][0][i]) else True for i, frequency in enumerate(depthStructure[-1])])\n",
    "            # print(\"análisis de repetidos es igual a:\", analisisResult )\n",
    "            #\n",
    "            # print((all([False if x == [] else True for x in copiaEstructura['lista'][posicionEstructura+1:sudokuDimension]]) == True) or len(ruta) == 9)\n",
    "            # All it has to be True to enter in the conditional\n",
    "            if ((all([False if x == [] else True for x in structureCopy['list'][\n",
    "                                                          listsPosition + 1:sudokuDimension]]) == True) and isDepthNecessary) or len(\n",
    "                route) == sudokuDimension:\n",
    "                # While the posicionEstructura\n",
    "                if listsPosition < sudokuDimension - 1:\n",
    "                    # The posicionEstructura is updated for the recursivity and advances the structured array position\n",
    "                    listsPosition = listsPosition + 1\n",
    "                    # It calls the same function if there's available places in ruta\n",
    "                    generateSubArray()\n",
    "                # When the recursion is finished then the posicionEstructura is less 1 to back at the before lista\n",
    "                listsPosition = listsPosition - 1\n",
    "                # If the  lenght of ruta is equals to the sudoku dimension then the solution for that subarray is completed\n",
    "                if len(route) > sudokuDimension - 1:\n",
    "                    # The subarray is stored in aglobal  variable to be used in the general structure\n",
    "                    solvedSubArray = np.array(route).reshape(subArrayDimension, subArrayDimension)\n",
    "                    # And then it's not necessary keep finding options in the lists\n",
    "                    isSubArraySolved = True\n",
    "                    print(\"subarray  listo\")\n",
    "                    # print(ruta)\n",
    "                # else: print(\"no entra en el if y ahora va a eliminar\")\n",
    "                # The last element in the list is removed. This is a part  of backtracking and Depth First Search\n",
    "            # print(\"Elimina el último elemento\")\n",
    "            route.pop()\n",
    "            # These sentences are to break the recursion and avoid easting computational time\n",
    "            # if isSubArraySolved == True: return\n",
    "            if isSubArraySolved == True: break"
   ],
   "metadata": {
    "collapsed": false,
    "pycharm": {
     "name": "#%%\n"
    }
   }
  },
  {
   "cell_type": "markdown",
   "source": [
    "## General structure of the generator"
   ],
   "metadata": {
    "collapsed": false,
    "pycharm": {
     "name": "#%% md\n"
    }
   }
  },
  {
   "cell_type": "code",
   "execution_count": 86,
   "outputs": [],
   "source": [
    "\n",
    "def solveSudoku():\n",
    "    global sudokuDimension, subArrayDimension, mainList, sudoku, listsPosition, isSubArraySolved, route, structure, solvedSubArray\n",
    "    # This is the structure of the solved sudoku generator\n",
    "    #It iterates the subarrays positions in rows\n",
    "    for i in range(0, sudokuDimension, subArrayDimension):\n",
    "        # It iterates the subarrays positions in columns\n",
    "        for x in range(0, sudokuDimension, subArrayDimension):\n",
    "            # print(\"-- ALL SUDOKU--\")\n",
    "            # print(sudoku)\n",
    "            # print(\"--ALL SUDOKU--\")\n",
    "            # print(\"CURRENT SUBARRAY:\", i + x)\n",
    "            print(sudoku[i:(i + subArrayDimension), x:(x + subArrayDimension)])\n",
    "            # subArreglo = sudoku[i:(i+2), x:(x+2)].copy()\n",
    "            availableValues = []\n",
    "            solvedSubArray = []\n",
    "            # It iterates the positions in the  subarray in rows\n",
    "            #Range is used to delimitate the original positions of the actual subarray in sudoku\n",
    "            for j in range(i, i + subArrayDimension):\n",
    "                # It iterates the positions in the  subarray in columns\n",
    "                for y in range(x, x + subArrayDimension):\n",
    "                    # lista variable stores  all the values there's in crossing at each position of the subarray\n",
    "                    recoveredValues = []\n",
    "                    # It  stores the  values  in crossing  at current row\n",
    "                    # print(\"posiciones en filas:\",population[0][i,:])\n",
    "                    recoveredValues = recoveredValues + [x for x in sudoku[j, :] if x > 0]\n",
    "                    # print(\"posiciones en columnas:\",population[0][:,y])\n",
    "                    # lista.append(population[0][i,:])\n",
    "                    # It  stores the  values  in crossing  at current column\n",
    "                    recoveredValues = recoveredValues + [x for x in sudoku[:, y] if x > 0]\n",
    "                    # It's not necessary store the repeated values, so these are deleted\n",
    "                    uniqueRecoveredValues = list(np.unique(recoveredValues))\n",
    "                    # print(\"RECOVERED  VALUES\", lista)\n",
    "                    #  the  initial lista variable  is copied  for   removing values that there are not options at that position\n",
    "                    mainListCopy = mainList.copy()\n",
    "                    # The found   values and stored in valores are removed from the copy of listaInicial  variable\n",
    "                    [mainListCopy.remove(x) for x in uniqueRecoveredValues]\n",
    "                    # print(\"POSSIBILITES FOR EACH CELL:\", valores)\n",
    "                    # General variable stores the lists of possibilities at each position of the subarray\n",
    "                    availableValues.append(mainListCopy)\n",
    "            # Second part\n",
    "            # print(\"STARTING THE SECOND PART\")\n",
    "            # The main structured array is created\n",
    "            structure = np.array([(i, lista, len(lista)) for i, lista in enumerate(availableValues)],\n",
    "                                  dtype=[('position', 'i4'), ('list', list), ('len', 'i4')])\n",
    "            # estructura = estructura[estructura[[\"len\"]].argsort()]\n",
    "            #PosicionEstructura  variable represents the position in the structured array, and it can't be greater than the sudokuDimension\n",
    "            listsPosition = 0\n",
    "            # Solucionado variable indicates if the correct  subarray was found\n",
    "            isSubArraySolved = False\n",
    "            # Ruta   variable represents all the values for the new subarray in shape of list. The final size has to be equals to sudokuDimension\n",
    "            route = []\n",
    "            # This  part is where the generateSubArray function is  called and starts the recursivity\n",
    "            #It iterates  the  first position of the structured  array with posicionEstructura variable\n",
    "            generateSubArray()\n",
    "            # print(\"SUBARRAY SOLUTION\")\n",
    "            # print(newSubarreglo)\n",
    "            # The new  generated subarray is  stored in  the actual position  of the sudoku\n",
    "            sudoku[i:(i + subArrayDimension), x:(x + subArrayDimension)] = solvedSubArray\n"
   ],
   "metadata": {
    "collapsed": false,
    "pycharm": {
     "name": "#%%\n"
    }
   }
  },
  {
   "cell_type": "markdown",
   "source": [
    "## Printing the solved sudoku"
   ],
   "metadata": {
    "collapsed": false,
    "pycharm": {
     "name": "#%% md\n"
    }
   }
  },
  {
   "cell_type": "code",
   "execution_count": 87,
   "outputs": [
    {
     "name": "stdout",
     "output_type": "stream",
     "text": [
      "[[0 0 0]\n",
      " [0 0 0]\n",
      " [0 0 0]]\n",
      "comenzando proceso\n",
      "agrega  el elemento a la ruta 1\n",
      "comenzando proceso\n",
      "agrega  el elemento a la ruta 2\n",
      "comenzando proceso\n",
      "agrega  el elemento a la ruta 3\n",
      "comenzando proceso\n",
      "agrega  el elemento a la ruta 4\n",
      "comenzando proceso\n",
      "agrega  el elemento a la ruta 5\n",
      "comenzando proceso\n",
      "agrega  el elemento a la ruta 6\n",
      "comenzando proceso\n",
      "agrega  el elemento a la ruta 7\n",
      "comenzando proceso\n",
      "agrega  el elemento a la ruta 8\n",
      "comenzando proceso\n",
      "agrega  el elemento a la ruta 9\n",
      "subarray  listo\n",
      "[[0 0 0]\n",
      " [0 0 0]\n",
      " [0 0 0]]\n",
      "comenzando proceso\n",
      "agrega  el elemento a la ruta 4\n",
      "comenzando proceso\n",
      "agrega  el elemento a la ruta 5\n",
      "comenzando proceso\n",
      "agrega  el elemento a la ruta 6\n",
      "comenzando proceso\n",
      "agrega  el elemento a la ruta 1\n",
      "agrega  el elemento a la ruta 2\n",
      "agrega  el elemento a la ruta 3\n",
      "agrega  el elemento a la ruta 7\n",
      "comenzando proceso\n",
      "agrega  el elemento a la ruta 1\n",
      "agrega  el elemento a la ruta 2\n",
      "agrega  el elemento a la ruta 3\n",
      "agrega  el elemento a la ruta 8\n",
      "comenzando proceso\n",
      "agrega  el elemento a la ruta 1\n",
      "agrega  el elemento a la ruta 2\n",
      "agrega  el elemento a la ruta 3\n",
      "agrega  el elemento a la ruta 9\n",
      "comenzando proceso\n",
      "agrega  el elemento a la ruta 1\n",
      "comenzando proceso\n",
      "agrega  el elemento a la ruta 2\n",
      "comenzando proceso\n",
      "agrega  el elemento a la ruta 3\n",
      "subarray  listo\n",
      "[[0 0 0]\n",
      " [0 0 0]\n",
      " [0 0 0]]\n",
      "comenzando proceso\n",
      "agrega  el elemento a la ruta 7\n",
      "comenzando proceso\n",
      "agrega  el elemento a la ruta 8\n",
      "comenzando proceso\n",
      "agrega  el elemento a la ruta 9\n",
      "comenzando proceso\n",
      "agrega  el elemento a la ruta 1\n",
      "comenzando proceso\n",
      "agrega  el elemento a la ruta 2\n",
      "comenzando proceso\n",
      "agrega  el elemento a la ruta 3\n",
      "comenzando proceso\n",
      "agrega  el elemento a la ruta 4\n",
      "comenzando proceso\n",
      "agrega  el elemento a la ruta 5\n",
      "comenzando proceso\n",
      "agrega  el elemento a la ruta 6\n",
      "subarray  listo\n",
      "[[0 0 0]\n",
      " [0 0 0]\n",
      " [0 0 0]]\n",
      "comenzando proceso\n",
      "agrega  el elemento a la ruta 2\n",
      "comenzando proceso\n",
      "agrega  el elemento a la ruta 1\n",
      "comenzando proceso\n",
      "agrega  el elemento a la ruta 4\n",
      "comenzando proceso\n",
      "agrega  el elemento a la ruta 3\n",
      "comenzando proceso\n",
      "agrega  el elemento a la ruta 6\n",
      "comenzando proceso\n",
      "agrega  el elemento a la ruta 5\n",
      "comenzando proceso\n",
      "agrega  el elemento a la ruta 8\n",
      "comenzando proceso\n",
      "agrega  el elemento a la ruta 7\n",
      "agrega  el elemento a la ruta 9\n",
      "comenzando proceso\n",
      "agrega  el elemento a la ruta 7\n",
      "subarray  listo\n",
      "[[0 0 0]\n",
      " [0 0 0]\n",
      " [0 0 0]]\n",
      "comenzando proceso\n",
      "agrega  el elemento a la ruta 3\n",
      "comenzando proceso\n",
      "agrega  el elemento a la ruta 6\n",
      "comenzando proceso\n",
      "agrega  el elemento a la ruta 5\n",
      "comenzando proceso\n",
      "agrega  el elemento a la ruta 2\n",
      "agrega  el elemento a la ruta 8\n",
      "comenzando proceso\n",
      "agrega  el elemento a la ruta 1\n",
      "comenzando proceso\n",
      "agrega  el elemento a la ruta 2\n",
      "agrega  el elemento a la ruta 4\n",
      "agrega  el elemento a la ruta 7\n",
      "comenzando proceso\n",
      "agrega  el elemento a la ruta 2\n",
      "agrega  el elemento a la ruta 4\n",
      "comenzando proceso\n",
      "agrega  el elemento a la ruta 1\n",
      "agrega  el elemento a la ruta 2\n",
      "agrega  el elemento a la ruta 7\n",
      "comenzando proceso\n",
      "agrega  el elemento a la ruta 2\n",
      "agrega  el elemento a la ruta 7\n",
      "comenzando proceso\n",
      "agrega  el elemento a la ruta 1\n",
      "comenzando proceso\n",
      "agrega  el elemento a la ruta 2\n",
      "agrega  el elemento a la ruta 2\n",
      "agrega  el elemento a la ruta 4\n",
      "comenzando proceso\n",
      "agrega  el elemento a la ruta 2\n",
      "agrega  el elemento a la ruta 9\n",
      "comenzando proceso\n",
      "agrega  el elemento a la ruta 1\n",
      "comenzando proceso\n",
      "agrega  el elemento a la ruta 2\n",
      "agrega  el elemento a la ruta 2\n",
      "agrega  el elemento a la ruta 4\n",
      "comenzando proceso\n",
      "agrega  el elemento a la ruta 2\n",
      "agrega  el elemento a la ruta 7\n",
      "comenzando proceso\n",
      "agrega  el elemento a la ruta 2\n",
      "comenzando proceso\n",
      "agrega  el elemento a la ruta 1\n",
      "comenzando proceso\n",
      "agrega  el elemento a la ruta 4\n",
      "subarray  listo\n",
      "[[0 0 0]\n",
      " [0 0 0]\n",
      " [0 0 0]]\n",
      "comenzando proceso\n",
      "agrega  el elemento a la ruta 8\n",
      "comenzando proceso\n",
      "agrega  el elemento a la ruta 7\n",
      "agrega  el elemento a la ruta 9\n",
      "comenzando proceso\n",
      "agrega  el elemento a la ruta 7\n",
      "comenzando proceso\n",
      "agrega  el elemento a la ruta 2\n",
      "comenzando proceso\n",
      "agrega  el elemento a la ruta 1\n",
      "comenzando proceso\n",
      "agrega  el elemento a la ruta 4\n",
      "comenzando proceso\n",
      "agrega  el elemento a la ruta 3\n",
      "comenzando proceso\n",
      "agrega  el elemento a la ruta 6\n",
      "comenzando proceso\n",
      "agrega  el elemento a la ruta 5\n",
      "subarray  listo\n",
      "[[0 0 0]\n",
      " [0 0 0]\n",
      " [0 0 0]]\n",
      "comenzando proceso\n",
      "agrega  el elemento a la ruta 5\n",
      "comenzando proceso\n",
      "agrega  el elemento a la ruta 3\n",
      "comenzando proceso\n",
      "agrega  el elemento a la ruta 1\n",
      "comenzando proceso\n",
      "agrega  el elemento a la ruta 6\n",
      "comenzando proceso\n",
      "agrega  el elemento a la ruta 4\n",
      "comenzando proceso\n",
      "agrega  el elemento a la ruta 2\n",
      "comenzando proceso\n",
      "agrega  el elemento a la ruta 9\n",
      "comenzando proceso\n",
      "agrega  el elemento a la ruta 7\n",
      "comenzando proceso\n",
      "agrega  el elemento a la ruta 8\n",
      "subarray  listo\n",
      "[[0 0 0]\n",
      " [0 0 0]\n",
      " [0 0 0]]\n",
      "comenzando proceso\n",
      "agrega  el elemento a la ruta 6\n",
      "comenzando proceso\n",
      "agrega  el elemento a la ruta 4\n",
      "comenzando proceso\n",
      "agrega  el elemento a la ruta 2\n",
      "comenzando proceso\n",
      "agrega  el elemento a la ruta 5\n",
      "agrega  el elemento a la ruta 9\n",
      "comenzando proceso\n",
      "agrega  el elemento a la ruta 3\n",
      "agrega  el elemento a la ruta 7\n",
      "comenzando proceso\n",
      "agrega  el elemento a la ruta 1\n",
      "agrega  el elemento a la ruta 8\n",
      "comenzando proceso\n",
      "agrega  el elemento a la ruta 5\n",
      "comenzando proceso\n",
      "agrega  el elemento a la ruta 3\n",
      "comenzando proceso\n",
      "agrega  el elemento a la ruta 1\n",
      "subarray  listo\n",
      "[[0 0 0]\n",
      " [0 0 0]\n",
      " [0 0 0]]\n",
      "comenzando proceso\n",
      "agrega  el elemento a la ruta 9\n",
      "comenzando proceso\n",
      "agrega  el elemento a la ruta 7\n",
      "comenzando proceso\n",
      "agrega  el elemento a la ruta 8\n",
      "comenzando proceso\n",
      "agrega  el elemento a la ruta 5\n",
      "comenzando proceso\n",
      "agrega  el elemento a la ruta 3\n",
      "comenzando proceso\n",
      "agrega  el elemento a la ruta 1\n",
      "comenzando proceso\n",
      "agrega  el elemento a la ruta 6\n",
      "comenzando proceso\n",
      "agrega  el elemento a la ruta 4\n",
      "comenzando proceso\n",
      "agrega  el elemento a la ruta 2\n",
      "subarray  listo\n"
     ]
    }
   ],
   "source": [
    "solveSudoku()"
   ],
   "metadata": {
    "collapsed": false,
    "pycharm": {
     "name": "#%%\n"
    }
   }
  },
  {
   "cell_type": "code",
   "execution_count": 88,
   "outputs": [
    {
     "data": {
      "text/plain": "array([[1, 2, 3, 4, 5, 6, 7, 8, 9],\n       [4, 5, 6, 7, 8, 9, 1, 2, 3],\n       [7, 8, 9, 1, 2, 3, 4, 5, 6],\n       [2, 1, 4, 3, 6, 5, 8, 9, 7],\n       [3, 6, 5, 8, 9, 7, 2, 1, 4],\n       [8, 9, 7, 2, 1, 4, 3, 6, 5],\n       [5, 3, 1, 6, 4, 2, 9, 7, 8],\n       [6, 4, 2, 9, 7, 8, 5, 3, 1],\n       [9, 7, 8, 5, 3, 1, 6, 4, 2]], dtype=uint8)"
     },
     "execution_count": 88,
     "metadata": {},
     "output_type": "execute_result"
    }
   ],
   "source": [
    "sudoku"
   ],
   "metadata": {
    "collapsed": false,
    "pycharm": {
     "name": "#%%\n"
    }
   }
  },
  {
   "cell_type": "code",
   "execution_count": null,
   "outputs": [],
   "source": [
    "def solve(grid, i=0, j=0):\n",
    "    i, j = find_next_cell_to_fill(grid, i, j)\n",
    "    if i == -1:\n",
    "        return True\n",
    "    for num in range(1, 17):\n",
    "        if is_valid(grid, i, j, num):\n",
    "            grid[i][j] = num\n",
    "            if solve(grid, i, j):\n",
    "                return True\n",
    "            # undo the current cell for backtracking\n",
    "            grid[i][j] = 0\n",
    "    return False\n",
    "\n",
    "\n",
    "def find_next_cell_to_fill(grid, i, j):\n",
    "    for x in range(i, 16):\n",
    "        for y in range(j, 16):\n",
    "            if grid[x][y] == 0:\n",
    "                return x, y\n",
    "    for x in range(0, 16):\n",
    "        for y in range(0, 16):\n",
    "            if grid[x][y] == 0:\n",
    "                return x, y\n",
    "    return -1, -1\n",
    "\n",
    "\n",
    "def is_valid(grid, i, j, num):\n",
    "    return not_in_row(grid, i, num) and not_in_col(grid, j, num) and not_in_box(grid, i, j, num)\n",
    "\n",
    "\n",
    "def not_in_row(grid, row, num):\n",
    "    for i in range(16):\n",
    "        if grid[row][i] == num:\n",
    "            return False\n",
    "    return True\n",
    "\n",
    "\n",
    "def not_in_col(grid, col, num):\n",
    "    for i in range(16):\n",
    "        if grid[i][col] == num:\n",
    "            return False\n",
    "    return True\n",
    "\n",
    "\n",
    "def not_in_box(grid, row, col, num):\n",
    "    startRow, startCol = row - row % 4, col - col % 4\n",
    "    for i in range(4):\n",
    "        for j in range(4):\n",
    "            if grid[i + startRow][j + startCol] == num:\n",
    "                return False\n",
    "    return True\n"
   ],
   "metadata": {
    "collapsed": false,
    "pycharm": {
     "name": "#%%\n"
    }
   }
  },
  {
   "cell_type": "code",
   "execution_count": 48,
   "outputs": [
    {
     "data": {
      "text/plain": "array([[1, 1, 1, 2, 2, 2, 3, 3, 3],\n       [1, 1, 1, 2, 2, 2, 3, 3, 3],\n       [1, 1, 1, 2, 2, 2, 3, 3, 3],\n       [2, 2, 2, 1, 1, 1, 4, 4, 4],\n       [2, 2, 2, 1, 1, 1, 4, 4, 4],\n       [2, 2, 2, 1, 1, 1, 4, 4, 4],\n       [3, 3, 3, 4, 4, 4, 1, 1, 1],\n       [3, 3, 3, 4, 4, 4, 1, 1, 1],\n       [3, 3, 3, 4, 4, 4, 1, 1, 1]], dtype=uint8)"
     },
     "execution_count": 48,
     "metadata": {},
     "output_type": "execute_result"
    }
   ],
   "source": [
    "sudoku"
   ],
   "metadata": {
    "collapsed": false,
    "pycharm": {
     "name": "#%%\n"
    }
   }
  },
  {
   "cell_type": "code",
   "execution_count": null,
   "outputs": [],
   "source": [
    "cProfile.run(\"solveSudoku()\")"
   ],
   "metadata": {
    "collapsed": false,
    "pycharm": {
     "name": "#%%\n"
    }
   }
  },
  {
   "cell_type": "code",
   "execution_count": null,
   "outputs": [],
   "source": [
    "cProfile.run(\"solveSudoku()\")"
   ],
   "metadata": {
    "collapsed": false,
    "pycharm": {
     "name": "#%%\n"
    }
   }
  },
  {
   "cell_type": "code",
   "execution_count": 82,
   "outputs": [],
   "source": [
    "cProfile.run(\"solveSudoku()\")"
   ],
   "metadata": {
    "collapsed": false,
    "pycharm": {
     "name": "#%%\n"
    }
   }
  },
  {
   "cell_type": "code",
   "execution_count": 63,
   "outputs": [
    {
     "name": "stdout",
     "output_type": "stream",
     "text": [
      "         3870230 function calls (3708910 primitive calls) in 6.998 seconds\n",
      "\n",
      "   Ordered by: standard name\n",
      "\n",
      "   ncalls  tottime  percall  cumtime  percall filename:lineno(function)\n",
      " 161321/1    1.170    0.000    6.998    6.998 2006840376.py:1(solve)\n",
      "   161321    0.287    0.000    0.287    0.000 2006840376.py:14(find_next_cell_to_fill)\n",
      "  1451592    1.222    0.000    5.541    0.000 2006840376.py:25(is_valid)\n",
      "  1451592    2.379    0.000    2.379    0.000 2006840376.py:28(not_in_row)\n",
      "   353390    0.803    0.000    0.803    0.000 2006840376.py:34(not_in_col)\n",
      "   291011    1.137    0.000    1.137    0.000 2006840376.py:40(not_in_box)\n",
      "        1    0.000    0.000    6.998    6.998 <string>:1(<module>)\n",
      "        1    0.000    0.000    6.998    6.998 {built-in method builtins.exec}\n",
      "        1    0.000    0.000    0.000    0.000 {method 'disable' of '_lsprof.Profiler' objects}\n",
      "\n",
      "\n"
     ]
    }
   ],
   "source": [
    "grid = [[1, 2, 3, 0, 0, 0, 0, 0, 0],\n",
    "        [4, 5, 6, 0, 0, 0, 0, 0, 0],\n",
    "        [7, 8, 9, 0, 0, 0, 0, 0, 0],\n",
    "        [0, 0, 0, 0, 0, 0, 0, 0, 0],\n",
    "        [0, 0, 0, 0, 0, 0, 0, 0, 0],\n",
    "        [0, 0, 0, 0, 0, 0, 0, 0, 0],\n",
    "        [0, 0, 0, 0, 0, 0, 0, 0, 0],\n",
    "        [0, 0, 0, 0, 0, 0, 0, 0, 0],\n",
    "        [0, 0, 0, 0, 0, 0, 0, 0, 0]]\n",
    "cProfile.run(\"solve(grid)\")"
   ],
   "metadata": {
    "collapsed": false,
    "pycharm": {
     "name": "#%%\n"
    }
   }
  },
  {
   "cell_type": "code",
   "execution_count": 48,
   "outputs": [
    {
     "data": {
      "text/plain": "True"
     },
     "execution_count": 48,
     "metadata": {},
     "output_type": "execute_result"
    }
   ],
   "source": [
    "solve(grid)"
   ],
   "metadata": {
    "collapsed": false,
    "pycharm": {
     "name": "#%%\n"
    }
   }
  },
  {
   "cell_type": "code",
   "execution_count": 49,
   "outputs": [
    {
     "data": {
      "text/plain": "[[1, 2, 3, 4, 5, 6, 7, 8, 9],\n [4, 5, 6, 7, 8, 9, 2, 3, 1],\n [7, 8, 9, 1, 2, 3, 6, 5, 4],\n [3, 6, 5, 8, 9, 7, 4, 1, 2],\n [2, 9, 7, 5, 4, 1, 8, 6, 3],\n [8, 4, 1, 6, 3, 2, 9, 7, 5],\n [5, 3, 4, 9, 7, 8, 1, 2, 6],\n [9, 1, 8, 2, 6, 5, 3, 4, 7],\n [6, 7, 2, 3, 1, 4, 5, 9, 8]]"
     },
     "execution_count": 49,
     "metadata": {},
     "output_type": "execute_result"
    }
   ],
   "source": [
    "grid"
   ],
   "metadata": {
    "collapsed": false,
    "pycharm": {
     "name": "#%%\n"
    }
   }
  }
 ],
 "metadata": {
  "kernelspec": {
   "display_name": "Python 3",
   "language": "python",
   "name": "python3"
  },
  "language_info": {
   "codemirror_mode": {
    "name": "ipython",
    "version": 2
   },
   "file_extension": ".py",
   "mimetype": "text/x-python",
   "name": "python",
   "nbconvert_exporter": "python",
   "pygments_lexer": "ipython2",
   "version": "2.7.6"
  }
 },
 "nbformat": 4,
 "nbformat_minor": 0
}