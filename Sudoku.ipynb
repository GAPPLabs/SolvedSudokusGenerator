{
 "cells": [
  {
   "cell_type": "markdown",
   "source": [
    "# Solved Sudokus  Generator"
   ],
   "metadata": {
    "collapsed": false,
    "pycharm": {
     "name": "#%% md\n"
    }
   }
  },
  {
   "cell_type": "markdown",
   "source": [
    "## Importing the needed libraries"
   ],
   "metadata": {
    "collapsed": false,
    "pycharm": {
     "name": "#%% md\n"
    }
   }
  },
  {
   "cell_type": "code",
   "execution_count": 1,
   "outputs": [],
   "source": [
    "import math, random\n",
    "import numpy as np"
   ],
   "metadata": {
    "collapsed": false,
    "pycharm": {
     "name": "#%%\n"
    }
   }
  },
  {
   "cell_type": "markdown",
   "source": [
    "## Settings and main variables of the generator"
   ],
   "metadata": {
    "collapsed": false,
    "pycharm": {
     "name": "#%% md\n"
    }
   }
  },
  {
   "cell_type": "code",
   "execution_count": 67,
   "outputs": [],
   "source": [
    "# SUDOKU SETTINGS\n",
    "# sudokuDimension indicates the length of the sudoku\n",
    "sudokuDimension = 9\n",
    "# It's necessary calculate the size length of each subarray\n",
    "subArrayDimension = int(math.sqrt(sudokuDimension))\n",
    "# Automated setting of the sudoku solution\n",
    "# This creates the list of values for the subarray and shuffles to get a variety of solutions\n",
    "listaInicial = list(range(1, sudokuDimension + 1))\n",
    "random.shuffle(listaInicial)\n",
    "# In other case, it's possible to indicate the positions of the values from the first subarray\n",
    "# listaInicial = [1,2,3,4,5,6,7,8,9]\n",
    "# It creates the sudoku with full of zeros\n",
    "sudoku = np.zeros((sudokuDimension, sudokuDimension), dtype=np.uint8)"
   ],
   "metadata": {
    "collapsed": false,
    "pycharm": {
     "name": "#%%\n"
    }
   }
  },
  {
   "cell_type": "markdown",
   "source": [
    "## Algorithm function to generate  the solution of each subarray"
   ],
   "metadata": {
    "collapsed": false,
    "pycharm": {
     "name": "#%% md\n"
    }
   }
  },
  {
   "cell_type": "code",
   "execution_count": 68,
   "outputs": [],
   "source": [
    "# This is the algorithm using recursive for choosing the correct option of subarray\n",
    "def generateSubArray():\n",
    "    # These are global variables because some ones  are need it in the structure\n",
    "    global ruta, posicionEstructura, solucionado, population, newSubarreglo, estructura\n",
    "    # If solucionado is True then it's not necessary keep analysing the options\n",
    "    if solucionado == False:\n",
    "        # In each called, the posicionEstructura variable is  used to iterate the  next element in the structured array\n",
    "        # and are taken the stored values in lista\n",
    "        # print(\"Touring lista\")\n",
    "        for elemento in estructura['lista'][posicionEstructura]:\n",
    "\n",
    "            # If the elemento of the current element of the structured array in lista  is not on ruta,\n",
    "            if elemento not in ruta:\n",
    "                # The element is added to the ruta variable\n",
    "                ruta.append(elemento)\n",
    "                # While the posicionEstructura\n",
    "                if posicionEstructura < sudokuDimension - 1:\n",
    "                    # The posicionEstructura is updated for the recursivity and advances the structured array position\n",
    "                    posicionEstructura = posicionEstructura + 1\n",
    "                    # It calls the same function if there's available places in ruta\n",
    "                    generateSubArray()\n",
    "                # When the recursion is finished then the posicionEstructura is less 1 to back at the before lista\n",
    "                posicionEstructura = posicionEstructura - 1\n",
    "                # If the  lenght of ruta is equals to the sudoku dimension then the solution for that subarray is completed\n",
    "                if len(ruta) > sudokuDimension - 1:\n",
    "                    # Another structured array is created to recovery the real positions and reconstruct the subarray\n",
    "                    estructuraFinal = np.array(list(zip(estructura['position'], [x for x in ruta])),\n",
    "                                               dtype=[('position', 'i4'), ('element', 'i4')])\n",
    "                    # print(\"impresion  estructura final\", estructuraFinal['element'])\n",
    "                    # The subarray is stored in aglobal  variable to be used in the general structure\n",
    "                    newSubarreglo = estructuraFinal['element'].reshape(subArrayDimension, subArrayDimension)\n",
    "                    # And then it's not necessary keep finding options in the lists\n",
    "                    solucionado = True\n",
    "                    print(ruta)\n",
    "                # The last element in the list is removed. This is a part  of backtracking and Depth First Search\n",
    "                ruta.pop()\n",
    "                # These sentences are to break the recursion and avoid easting computational time\n",
    "                if solucionado == True: return\n",
    "            if solucionado == True: break"
   ],
   "metadata": {
    "collapsed": false,
    "pycharm": {
     "name": "#%%\n"
    }
   }
  },
  {
   "cell_type": "markdown",
   "source": [
    "## General structure of the generator"
   ],
   "metadata": {
    "collapsed": false,
    "pycharm": {
     "name": "#%% md\n"
    }
   }
  },
  {
   "cell_type": "code",
   "execution_count": 70,
   "outputs": [
    {
     "name": "stdout",
     "output_type": "stream",
     "text": [
      "-- ALL SUDOKU--\n",
      "[[7 1 3 5 6 9 4 8 2]\n",
      " [5 6 9 4 8 2 7 1 3]\n",
      " [4 8 2 7 1 3 5 6 9]\n",
      " [1 7 5 3 9 6 8 2 4]\n",
      " [3 9 6 8 2 4 1 7 5]\n",
      " [8 2 4 1 7 5 3 9 6]\n",
      " [6 3 7 9 5 1 2 4 8]\n",
      " [9 5 1 2 4 8 6 3 7]\n",
      " [2 4 8 6 3 7 9 5 1]]\n",
      "--ALL SUDOKU--\n",
      "CURRENT SUBARRAY: 0\n",
      "[[7 1 3]\n",
      " [5 6 9]\n",
      " [4 8 2]]\n",
      "RECOVERED  VALUES [1, 2, 3, 4, 5, 6, 7, 8, 9]\n",
      "POSSIBILITES FOR EACH CELL: []\n",
      "RECOVERED  VALUES [1, 2, 3, 4, 5, 6, 7, 8, 9]\n",
      "POSSIBILITES FOR EACH CELL: []\n",
      "RECOVERED  VALUES [1, 2, 3, 4, 5, 6, 7, 8, 9]\n",
      "POSSIBILITES FOR EACH CELL: []\n",
      "RECOVERED  VALUES [1, 2, 3, 4, 5, 6, 7, 8, 9]\n",
      "POSSIBILITES FOR EACH CELL: []\n",
      "RECOVERED  VALUES [1, 2, 3, 4, 5, 6, 7, 8, 9]\n",
      "POSSIBILITES FOR EACH CELL: []\n",
      "RECOVERED  VALUES [1, 2, 3, 4, 5, 6, 7, 8, 9]\n",
      "POSSIBILITES FOR EACH CELL: []\n",
      "RECOVERED  VALUES [1, 2, 3, 4, 5, 6, 7, 8, 9]\n",
      "POSSIBILITES FOR EACH CELL: []\n",
      "RECOVERED  VALUES [1, 2, 3, 4, 5, 6, 7, 8, 9]\n",
      "POSSIBILITES FOR EACH CELL: []\n",
      "RECOVERED  VALUES [1, 2, 3, 4, 5, 6, 7, 8, 9]\n",
      "POSSIBILITES FOR EACH CELL: []\n",
      "STARTING THE SECOND PART\n",
      "SUBARRAY SOLUTION\n",
      "[]\n"
     ]
    },
    {
     "ename": "ValueError",
     "evalue": "could not broadcast input array from shape (0,) into shape (3,3)",
     "output_type": "error",
     "traceback": [
      "\u001B[1;31m---------------------------------------------------------------------------\u001B[0m",
      "\u001B[1;31mValueError\u001B[0m                                Traceback (most recent call last)",
      "Cell \u001B[1;32mIn [70], line 64\u001B[0m\n\u001B[0;32m     62\u001B[0m \u001B[38;5;28mprint\u001B[39m(newSubarreglo)\n\u001B[0;32m     63\u001B[0m \u001B[38;5;66;03m# The new  generated subarray is  stored in  the actual position  of the sudoku\u001B[39;00m\n\u001B[1;32m---> 64\u001B[0m \u001B[43msudoku\u001B[49m\u001B[43m[\u001B[49m\u001B[43mi\u001B[49m\u001B[43m:\u001B[49m\u001B[43m(\u001B[49m\u001B[43mi\u001B[49m\u001B[43m \u001B[49m\u001B[38;5;241;43m+\u001B[39;49m\u001B[43m \u001B[49m\u001B[43msubArrayDimension\u001B[49m\u001B[43m)\u001B[49m\u001B[43m,\u001B[49m\u001B[43m \u001B[49m\u001B[43mx\u001B[49m\u001B[43m:\u001B[49m\u001B[43m(\u001B[49m\u001B[43mx\u001B[49m\u001B[43m \u001B[49m\u001B[38;5;241;43m+\u001B[39;49m\u001B[43m \u001B[49m\u001B[43msubArrayDimension\u001B[49m\u001B[43m)\u001B[49m\u001B[43m]\u001B[49m \u001B[38;5;241m=\u001B[39m newSubarreglo\n",
      "\u001B[1;31mValueError\u001B[0m: could not broadcast input array from shape (0,) into shape (3,3)"
     ]
    }
   ],
   "source": [
    "# This is the structure of the solved sudoku generator\n",
    "#It iterates the subarrays positions in rows\n",
    "for i in range(0, sudokuDimension, subArrayDimension):\n",
    "    # It iterates the subarrays positions in columns\n",
    "    for x in range(0, sudokuDimension, subArrayDimension):\n",
    "        print(\"-- ALL SUDOKU--\")\n",
    "        print(sudoku)\n",
    "        print(\"--ALL SUDOKU--\")\n",
    "        print(\"CURRENT SUBARRAY:\", i+x)\n",
    "        print(sudoku[i:(i + subArrayDimension), x:(x + subArrayDimension)])\n",
    "        # subArreglo = sudoku[i:(i+2), x:(x+2)].copy()\n",
    "        general = []\n",
    "        newSubarreglo = []\n",
    "        # It iterates the positions in the  subarray in rows\n",
    "        #Range is used to delimitate the original positions of the actual subarray in sudoku\n",
    "        for j in range(i, i + subArrayDimension):\n",
    "            # It iterates the positions in the  subarray in columns\n",
    "            for y in range(x, x + subArrayDimension):\n",
    "                # lista variable stores  all the values there's in crossing at each position of the subarray\n",
    "                lista = []\n",
    "                # It  stores the  values  in crossing  at current row\n",
    "                # print(\"posiciones en filas:\",population[0][i,:])\n",
    "                lista = lista + [x for x in sudoku[j, :] if x > 0]\n",
    "                # print(\"posiciones en columnas:\",population[0][:,y])\n",
    "                # lista.append(population[0][i,:])\n",
    "                # It  stores the  values  in crossing  at current column\n",
    "                lista = lista + [x for x in sudoku[:, y] if x > 0]\n",
    "                # It's not necessary store the repeated values, so these are deleted\n",
    "                lista = list(np.unique(lista))\n",
    "                print(\"RECOVERED  VALUES\", lista)\n",
    "                #  the  initial lista variable  is copied  for   removing values that there are not options at that position\n",
    "                valores = listaInicial.copy()\n",
    "                # The found   values and stored in valores are removed from the copy of listaInicial  variable\n",
    "                [valores.remove(x) for x in lista]\n",
    "                print(\"POSSIBILITES FOR EACH CELL:\", valores)\n",
    "                # General variable stores the lists of possibilities at each position of the subarray\n",
    "                general.append(valores)\n",
    "        # Second part\n",
    "        print(\"STARTING THE SECOND PART\")\n",
    "        # The main structured array is created\n",
    "        estructura = np.array([(i, element, len(element)) for i, element in enumerate(general)],\n",
    "                              dtype=[('position', 'i4'), ('lista', list), ('len', 'i4')])\n",
    "        #PosicionEstructura  variable represents the position in the structured array, and it can't be greater than the sudokuDimension\n",
    "        posicionEstructura = 0\n",
    "        # Solucionado variable indicates if the correct  subarray was found\n",
    "        solucionado = False\n",
    "        # Ruta   variable represents all the values for the new subarray in shape of list. The final size has to be equals to sudokuDimension\n",
    "        ruta = []\n",
    "        # This  part is where the generateSubArray function is  called and starts the recursivity\n",
    "        #It iterates  the  first position of the structured  array with posicionEstructura variable\n",
    "        generateSubArray()\n",
    "        print(\"SUBARRAY SOLUTION\")\n",
    "        print(newSubarreglo)\n",
    "        # The new  generated subarray is  stored in  the actual position  of the sudoku\n",
    "        sudoku[i:(i + subArrayDimension), x:(x + subArrayDimension)] = newSubarreglo"
   ],
   "metadata": {
    "collapsed": false,
    "pycharm": {
     "name": "#%%\n"
    }
   }
  },
  {
   "cell_type": "markdown",
   "source": [
    "## Printing the solved sudoku"
   ],
   "metadata": {
    "collapsed": false,
    "pycharm": {
     "name": "#%% md\n"
    }
   }
  },
  {
   "cell_type": "code",
   "execution_count": 71,
   "outputs": [
    {
     "data": {
      "text/plain": "array([[7, 1, 3, 5, 6, 9, 4, 8, 2],\n       [5, 6, 9, 4, 8, 2, 7, 1, 3],\n       [4, 8, 2, 7, 1, 3, 5, 6, 9],\n       [1, 7, 5, 3, 9, 6, 8, 2, 4],\n       [3, 9, 6, 8, 2, 4, 1, 7, 5],\n       [8, 2, 4, 1, 7, 5, 3, 9, 6],\n       [6, 3, 7, 9, 5, 1, 2, 4, 8],\n       [9, 5, 1, 2, 4, 8, 6, 3, 7],\n       [2, 4, 8, 6, 3, 7, 9, 5, 1]], dtype=uint8)"
     },
     "execution_count": 71,
     "metadata": {},
     "output_type": "execute_result"
    }
   ],
   "source": [
    "sudoku"
   ],
   "metadata": {
    "collapsed": false,
    "pycharm": {
     "name": "#%%\n"
    }
   }
  },
  {
   "cell_type": "code",
   "execution_count": null,
   "outputs": [],
   "source": [],
   "metadata": {
    "collapsed": false,
    "pycharm": {
     "name": "#%%\n"
    }
   }
  }
 ],
 "metadata": {
  "kernelspec": {
   "display_name": "Python 3",
   "language": "python",
   "name": "python3"
  },
  "language_info": {
   "codemirror_mode": {
    "name": "ipython",
    "version": 2
   },
   "file_extension": ".py",
   "mimetype": "text/x-python",
   "name": "python",
   "nbconvert_exporter": "python",
   "pygments_lexer": "ipython2",
   "version": "2.7.6"
  }
 },
 "nbformat": 4,
 "nbformat_minor": 0
}